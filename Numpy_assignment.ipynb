{
 "cells": [
  {
   "cell_type": "code",
   "execution_count": 120,
   "id": "e88d97c1-7630-4f0d-bda4-9b815d968fa7",
   "metadata": {},
   "outputs": [
    {
     "data": {
      "text/plain": [
       "' Q1. What is a Python library? Why do we use Python libraries? \\nans: Python libraries are pre-written collections of code that provide specific functionalities.\\nWe use them to save time, increase productivity, optimize performance, tap into community support,\\nand leverage specialized features for various tasks. '"
      ]
     },
     "execution_count": 120,
     "metadata": {},
     "output_type": "execute_result"
    }
   ],
   "source": [
    "''' Q1. What is a Python library? Why do we use Python libraries? \n",
    "ans: Python libraries are pre-written collections of code that provide specific functionalities.\n",
    "We use them to save time, increase productivity, optimize performance, tap into community support,\n",
    "and leverage specialized features for various tasks. '''"
   ]
  },
  {
   "cell_type": "code",
   "execution_count": 121,
   "id": "a686a4bf-4852-4f9f-b020-7b42be73b4aa",
   "metadata": {},
   "outputs": [
    {
     "data": {
      "text/plain": [
       "' Q2. What is the difference between Numpy array and List?\\nans: NumPy arrays are specialized data structures optimized for numerical operations and homogeneous\\ndata types, while lists in Python are general-purpose, dynamic structures allowing heterogeneous elements\\nand are more versatile for general programming tasks.'"
      ]
     },
     "execution_count": 121,
     "metadata": {},
     "output_type": "execute_result"
    }
   ],
   "source": [
    "''' Q2. What is the difference between Numpy array and List?\n",
    "ans: NumPy arrays are specialized data structures optimized for numerical operations and homogeneous\n",
    "data types, while lists in Python are general-purpose, dynamic structures allowing heterogeneous elements\n",
    "and are more versatile for general programming tasks.'''"
   ]
  },
  {
   "cell_type": "code",
   "execution_count": 122,
   "id": "cf152a2c-1826-4803-833c-61ac12915420",
   "metadata": {},
   "outputs": [],
   "source": [
    "import numpy as np"
   ]
  },
  {
   "cell_type": "code",
   "execution_count": 123,
   "id": "68b5f536-0759-4e62-8df4-fc6f031d86e9",
   "metadata": {},
   "outputs": [
    {
     "data": {
      "text/plain": [
       "' Q3.Find the shape, size and dimension of the following array?\\n[[1, 2, 3, 4]\\n[5, 6, 7, 8],\\n[9, 10, 11, 12]]'"
      ]
     },
     "execution_count": 123,
     "metadata": {},
     "output_type": "execute_result"
    }
   ],
   "source": [
    "''' Q3.Find the shape, size and dimension of the following array?\n",
    "[[1, 2, 3, 4]\n",
    "[5, 6, 7, 8],\n",
    "[9, 10, 11, 12]]'''"
   ]
  },
  {
   "cell_type": "code",
   "execution_count": 124,
   "id": "5ec24bf7-2460-4c22-868c-1eae87ee02b4",
   "metadata": {},
   "outputs": [],
   "source": [
    "arr = np.array([[1, 2, 3, 4],\n",
    "[5, 6, 7, 8],\n",
    "[9, 10, 11, 12]])"
   ]
  },
  {
   "cell_type": "code",
   "execution_count": 125,
   "id": "ea813dec-a8dd-4b5a-98b6-3601d841ddc5",
   "metadata": {},
   "outputs": [
    {
     "data": {
      "text/plain": [
       "array([[ 1,  2,  3,  4],\n",
       "       [ 5,  6,  7,  8],\n",
       "       [ 9, 10, 11, 12]])"
      ]
     },
     "execution_count": 125,
     "metadata": {},
     "output_type": "execute_result"
    }
   ],
   "source": [
    "arr"
   ]
  },
  {
   "cell_type": "code",
   "execution_count": 126,
   "id": "da94bfc1-5b80-48b1-9d1d-cc34bbcf11b4",
   "metadata": {},
   "outputs": [
    {
     "data": {
      "text/plain": [
       "(3, 4)"
      ]
     },
     "execution_count": 126,
     "metadata": {},
     "output_type": "execute_result"
    }
   ],
   "source": [
    "arr.shape"
   ]
  },
  {
   "cell_type": "code",
   "execution_count": 127,
   "id": "0edb2eb7-1676-4c3d-a86c-904daa6b6a5c",
   "metadata": {},
   "outputs": [
    {
     "data": {
      "text/plain": [
       "12"
      ]
     },
     "execution_count": 127,
     "metadata": {},
     "output_type": "execute_result"
    }
   ],
   "source": [
    "arr.size"
   ]
  },
  {
   "cell_type": "code",
   "execution_count": 128,
   "id": "0d498a2b-afea-4909-8fbf-e83bd67669cf",
   "metadata": {},
   "outputs": [
    {
     "data": {
      "text/plain": [
       "2"
      ]
     },
     "execution_count": 128,
     "metadata": {},
     "output_type": "execute_result"
    }
   ],
   "source": [
    "arr.ndim"
   ]
  },
  {
   "cell_type": "code",
   "execution_count": 129,
   "id": "5b016e02-027b-4dd1-a87b-5671d652ac70",
   "metadata": {},
   "outputs": [
    {
     "data": {
      "text/plain": [
       "' Q4. Write python co^e to access the first row of the following array?\\n[[1, 2, 3, 4]\\n[5, 6, 7, 8],\\n[9, 10, 11, 12]]'"
      ]
     },
     "execution_count": 129,
     "metadata": {},
     "output_type": "execute_result"
    }
   ],
   "source": [
    "''' Q4. Write python co^e to access the first row of the following array?\n",
    "[[1, 2, 3, 4]\n",
    "[5, 6, 7, 8],\n",
    "[9, 10, 11, 12]]'''"
   ]
  },
  {
   "cell_type": "code",
   "execution_count": 130,
   "id": "1fdbc61a-809a-421b-b37b-695a0bce491a",
   "metadata": {},
   "outputs": [],
   "source": [
    "arr1 = np.array([[1, 2, 3, 4],\n",
    "[5, 6, 7, 8],\n",
    "[9, 10, 11, 12]])"
   ]
  },
  {
   "cell_type": "code",
   "execution_count": 131,
   "id": "2d9649f9-e3f5-4469-a6eb-5f6db2061c0a",
   "metadata": {},
   "outputs": [
    {
     "data": {
      "text/plain": [
       "array([[ 1,  2,  3,  4],\n",
       "       [ 5,  6,  7,  8],\n",
       "       [ 9, 10, 11, 12]])"
      ]
     },
     "execution_count": 131,
     "metadata": {},
     "output_type": "execute_result"
    }
   ],
   "source": [
    "arr1"
   ]
  },
  {
   "cell_type": "code",
   "execution_count": 132,
   "id": "7e9065dd-03d6-4738-b3d9-52ba738b63c8",
   "metadata": {},
   "outputs": [
    {
     "data": {
      "text/plain": [
       "array([1, 2, 3, 4])"
      ]
     },
     "execution_count": 132,
     "metadata": {},
     "output_type": "execute_result"
    }
   ],
   "source": [
    "arr1[0]"
   ]
  },
  {
   "cell_type": "code",
   "execution_count": 133,
   "id": "622cb812-3a97-4268-aed2-1e4eab4df218",
   "metadata": {},
   "outputs": [
    {
     "data": {
      "text/plain": [
       "' Q5. How do you access the element at the third row and fourth column from the given numpy array?\\n[[1, 2, 3, 4],\\n[5, 6, 7, 8],\\n[9, 10, 11, 12]]'"
      ]
     },
     "execution_count": 133,
     "metadata": {},
     "output_type": "execute_result"
    }
   ],
   "source": [
    "''' Q5. How do you access the element at the third row and fourth column from the given numpy array?\n",
    "[[1, 2, 3, 4],\n",
    "[5, 6, 7, 8],\n",
    "[9, 10, 11, 12]]'''"
   ]
  },
  {
   "cell_type": "code",
   "execution_count": 180,
   "id": "f2fc57ba-13cd-4f0a-9a18-90e3edd10799",
   "metadata": {},
   "outputs": [
    {
     "data": {
      "text/plain": [
       "12"
      ]
     },
     "execution_count": 180,
     "metadata": {},
     "output_type": "execute_result"
    }
   ],
   "source": [
    "# To access the third row and fourth column in the given array we can use array slicing in python as below\n",
    "arr2 = np.array([[1, 2, 3, 4],\n",
    "[5, 6, 7, 8],\n",
    "[9, 10, 11, 12]])\n",
    "arr2[2][3]"
   ]
  },
  {
   "cell_type": "code",
   "execution_count": 135,
   "id": "6e6abf87-7f4f-4ded-a3ec-c8837a7e3b06",
   "metadata": {},
   "outputs": [
    {
     "data": {
      "text/plain": [
       "'Q6. Write code to extract all odd-indexed elements from the given numpy array?\\n[[1, 2, 3, 4],\\n[5, 6, 7, 8],\\n[9, 10, 11, 12]]'"
      ]
     },
     "execution_count": 135,
     "metadata": {},
     "output_type": "execute_result"
    }
   ],
   "source": [
    "'''Q6. Write code to extract all odd-indexed elements from the given numpy array?\n",
    "[[1, 2, 3, 4],\n",
    "[5, 6, 7, 8],\n",
    "[9, 10, 11, 12]]'''"
   ]
  },
  {
   "cell_type": "code",
   "execution_count": 136,
   "id": "c36e3c03-eb5e-4266-a7ca-1ede3a3fd3ed",
   "metadata": {},
   "outputs": [],
   "source": [
    "arr3 = np.array([[1, 2, 3, 4],\n",
    "[5, 6, 7, 8],\n",
    "[9, 10, 11, 12]])"
   ]
  },
  {
   "cell_type": "code",
   "execution_count": 137,
   "id": "1f75d4e8-cb68-4d0e-84ed-3958653be12c",
   "metadata": {},
   "outputs": [
    {
     "data": {
      "text/plain": [
       "array([[ 1,  2,  3,  4],\n",
       "       [ 5,  6,  7,  8],\n",
       "       [ 9, 10, 11, 12]])"
      ]
     },
     "execution_count": 137,
     "metadata": {},
     "output_type": "execute_result"
    }
   ],
   "source": [
    "arr3"
   ]
  },
  {
   "cell_type": "code",
   "execution_count": 138,
   "id": "26ca7707-b868-4ccd-afa5-db9c7b7f8767",
   "metadata": {},
   "outputs": [
    {
     "data": {
      "text/plain": [
       "array([ 2,  4,  6,  8, 10, 12])"
      ]
     },
     "execution_count": 138,
     "metadata": {},
     "output_type": "execute_result"
    }
   ],
   "source": [
    "arr3[arr3 % 2==0]"
   ]
  },
  {
   "cell_type": "code",
   "execution_count": 139,
   "id": "15f79752-44a1-42d5-9792-0e20d2b55939",
   "metadata": {},
   "outputs": [
    {
     "data": {
      "text/plain": [
       "'Q7. How can you generate a random 3x3 matrix with values between 0 and 1?\\nto generate a matrix of 3x3 we can use numpy module random.rand function which creates a matrix of valued ranges from 0 to 1.\\nIt takes the dimensions of the array as arguments.'"
      ]
     },
     "execution_count": 139,
     "metadata": {},
     "output_type": "execute_result"
    }
   ],
   "source": [
    "'''Q7. How can you generate a random 3x3 matrix with values between 0 and 1?\n",
    "to generate a matrix of 3x3 we can use numpy module random.rand function which creates a matrix of valued ranges from 0 to 1.\n",
    "It takes the dimensions of the array as arguments.'''"
   ]
  },
  {
   "cell_type": "code",
   "execution_count": 140,
   "id": "c1a31113-e96c-4eb0-9dac-41c8c529b2eb",
   "metadata": {},
   "outputs": [
    {
     "data": {
      "text/plain": [
       "array([[0.52422886, 0.19764597, 0.0746109 ],\n",
       "       [0.97509715, 0.22014194, 0.20562079],\n",
       "       [0.19433027, 0.93746355, 0.0925626 ]])"
      ]
     },
     "execution_count": 140,
     "metadata": {},
     "output_type": "execute_result"
    }
   ],
   "source": [
    "np.random.rand(3,3)"
   ]
  },
  {
   "cell_type": "code",
   "execution_count": 141,
   "id": "7ae7c8e1-3def-472d-8d91-58bce3c4bdff",
   "metadata": {},
   "outputs": [
    {
     "data": {
      "text/plain": [
       "\"Q8.Describe the difference between np.random.rand and np.random.randn?\\nThe main difference between 'np.random.rand' and 'np.random.randn' in NumPy is:\\nnp.random.rand: This function generates an array of specified shape filled with \\nrandom samples from a uniform distribution over [0, 1). It takes the dimensions of the array as arguments.\\nnp.random.randn: This function generates an array of specified shape filled with random samples\\nfrom a standard normal distribution (mean=0, variance=1). It takes the dimensions of the array as arguments.\""
      ]
     },
     "execution_count": 141,
     "metadata": {},
     "output_type": "execute_result"
    }
   ],
   "source": [
    "'''Q8.Describe the difference between np.random.rand and np.random.randn?\n",
    "The main difference between 'np.random.rand' and 'np.random.randn' in NumPy is:\n",
    "np.random.rand: This function generates an array of specified shape filled with \n",
    "random samples from a uniform distribution over [0, 1). It takes the dimensions of the array as arguments.\n",
    "np.random.randn: This function generates an array of specified shape filled with random samples\n",
    "from a standard normal distribution (mean=0, variance=1). It takes the dimensions of the array as arguments.'''"
   ]
  },
  {
   "cell_type": "code",
   "execution_count": 142,
   "id": "755d09d0-8a0d-4193-9617-064988e7724e",
   "metadata": {},
   "outputs": [
    {
     "data": {
      "text/plain": [
       "'Q9. Write code to increase the dimension of the following array?\\n[[1, 2, 3, 4],\\n[5, 6, 7, 8],\\n[9, 10, 11, 12]]'"
      ]
     },
     "execution_count": 142,
     "metadata": {},
     "output_type": "execute_result"
    }
   ],
   "source": [
    "'''Q9. Write code to increase the dimension of the following array?\n",
    "[[1, 2, 3, 4],\n",
    "[5, 6, 7, 8],\n",
    "[9, 10, 11, 12]]'''"
   ]
  },
  {
   "cell_type": "code",
   "execution_count": 143,
   "id": "526dccc5-eb7a-484f-9c86-3e15ccb5be56",
   "metadata": {},
   "outputs": [],
   "source": [
    "arr4 = np.array([[1, 2, 3, 4],\n",
    "[5, 6, 7, 8],\n",
    "[9, 10, 11, 12]])"
   ]
  },
  {
   "cell_type": "code",
   "execution_count": 144,
   "id": "da28ca66-074b-418f-bc29-57cc623a27c5",
   "metadata": {},
   "outputs": [
    {
     "data": {
      "text/plain": [
       "2"
      ]
     },
     "execution_count": 144,
     "metadata": {},
     "output_type": "execute_result"
    }
   ],
   "source": [
    "arr4.ndim"
   ]
  },
  {
   "cell_type": "code",
   "execution_count": 145,
   "id": "b251f521-7ea3-49a5-8d80-97e63da5bfab",
   "metadata": {},
   "outputs": [],
   "source": [
    "arr4_3d = np.expand_dims(arr4, axis=0)"
   ]
  },
  {
   "cell_type": "code",
   "execution_count": 146,
   "id": "c05678b3-09a9-4d47-b0a4-46413fad4d34",
   "metadata": {},
   "outputs": [
    {
     "data": {
      "text/plain": [
       "array([[[ 1,  2,  3,  4],\n",
       "        [ 5,  6,  7,  8],\n",
       "        [ 9, 10, 11, 12]]])"
      ]
     },
     "execution_count": 146,
     "metadata": {},
     "output_type": "execute_result"
    }
   ],
   "source": [
    "arr4_3d"
   ]
  },
  {
   "cell_type": "code",
   "execution_count": 147,
   "id": "71736d52-6dd3-4dd0-9950-5f72718e7cc9",
   "metadata": {},
   "outputs": [
    {
     "data": {
      "text/plain": [
       "3"
      ]
     },
     "execution_count": 147,
     "metadata": {},
     "output_type": "execute_result"
    }
   ],
   "source": [
    "arr4_3d.ndim"
   ]
  },
  {
   "cell_type": "code",
   "execution_count": 148,
   "id": "193069e5-0173-4681-b948-17b4ad7ac565",
   "metadata": {},
   "outputs": [
    {
     "data": {
      "text/plain": [
       "' Q10. How to transpose the following array in NumPy?\\n[[1, 2, 3, 4]\\n[5, 6, 7, 8],\\n[9, 10, 11, 12]]'"
      ]
     },
     "execution_count": 148,
     "metadata": {},
     "output_type": "execute_result"
    }
   ],
   "source": [
    "''' Q10. How to transpose the following array in NumPy?\n",
    "[[1, 2, 3, 4]\n",
    "[5, 6, 7, 8],\n",
    "[9, 10, 11, 12]]'''"
   ]
  },
  {
   "cell_type": "code",
   "execution_count": 149,
   "id": "ff1e71be-2866-4aa6-875c-ca5e75c243ff",
   "metadata": {},
   "outputs": [],
   "source": [
    "a = np.array([[1, 2, 3, 4],\n",
    "[5, 6, 7, 8],\n",
    "[9, 10, 11, 12]])"
   ]
  },
  {
   "cell_type": "code",
   "execution_count": 150,
   "id": "f6d1ca7f-7b83-463e-8510-6839aabade73",
   "metadata": {},
   "outputs": [],
   "source": [
    "at = a.T"
   ]
  },
  {
   "cell_type": "code",
   "execution_count": 151,
   "id": "f63d6cb4-1190-48c9-9e92-3374336f2593",
   "metadata": {},
   "outputs": [
    {
     "data": {
      "text/plain": [
       "array([[ 1,  5,  9],\n",
       "       [ 2,  6, 10],\n",
       "       [ 3,  7, 11],\n",
       "       [ 4,  8, 12]])"
      ]
     },
     "execution_count": 151,
     "metadata": {},
     "output_type": "execute_result"
    }
   ],
   "source": [
    "# transposed array:\n",
    "at"
   ]
  },
  {
   "cell_type": "code",
   "execution_count": 152,
   "id": "660f5888-a0d9-417e-9e6f-d8db97aeb8a5",
   "metadata": {},
   "outputs": [
    {
     "data": {
      "text/plain": [
       "'11. Consider the following matrix:\\nMatrix A: [[1, 2, 3, 4] [5, 6, 7, 8],[9, 10, 11, 12]]\\nMatrix B: [[1, 2, 3, 4] [5, 6, 7, 8],[9, 10, 11, 12]]\\nPerform the following operation using Python\\n1. Index wise multiplication\\n2.matrix multiplication\\n3.add both matrics\\n4.subtract matrix b from a \\n5.divide matrix b by a\\n'"
      ]
     },
     "execution_count": 152,
     "metadata": {},
     "output_type": "execute_result"
    }
   ],
   "source": [
    "'''11. Consider the following matrix:\n",
    "Matrix A: [[1, 2, 3, 4] [5, 6, 7, 8],[9, 10, 11, 12]]\n",
    "Matrix B: [[1, 2, 3, 4] [5, 6, 7, 8],[9, 10, 11, 12]]\n",
    "Perform the following operation using Python\n",
    "1. Index wise multiplication\n",
    "2.matrix multiplication\n",
    "3.add both matrics\n",
    "4.subtract matrix b from a \n",
    "5.divide matrix b by a\n",
    "'''"
   ]
  },
  {
   "cell_type": "code",
   "execution_count": 153,
   "id": "9b55d753-0c78-4c32-aba7-3197019d9b88",
   "metadata": {},
   "outputs": [],
   "source": [
    "matrix_a = np.array([[1, 2, 3, 4], [5, 6, 7, 8],[9, 10, 11, 12]])"
   ]
  },
  {
   "cell_type": "code",
   "execution_count": 154,
   "id": "42d0898b-fa3a-4006-be6b-c7c9f145efda",
   "metadata": {},
   "outputs": [],
   "source": [
    "matrix_b = np.array([[1, 2, 3, 4] ,[5, 6, 7, 8],[9, 10, 11, 12]])"
   ]
  },
  {
   "cell_type": "code",
   "execution_count": 155,
   "id": "f8a8053c-d5d8-4d11-ac1a-f42e141a8e9a",
   "metadata": {},
   "outputs": [
    {
     "data": {
      "text/plain": [
       "array([[ 1,  2,  3,  4],\n",
       "       [ 5,  6,  7,  8],\n",
       "       [ 9, 10, 11, 12]])"
      ]
     },
     "execution_count": 155,
     "metadata": {},
     "output_type": "execute_result"
    }
   ],
   "source": [
    "matrix_a"
   ]
  },
  {
   "cell_type": "code",
   "execution_count": 156,
   "id": "c2d1798e-05f1-4876-a44c-1ab1bb7bffb9",
   "metadata": {},
   "outputs": [
    {
     "data": {
      "text/plain": [
       "array([[ 1,  2,  3,  4],\n",
       "       [ 5,  6,  7,  8],\n",
       "       [ 9, 10, 11, 12]])"
      ]
     },
     "execution_count": 156,
     "metadata": {},
     "output_type": "execute_result"
    }
   ],
   "source": [
    "matrix_b"
   ]
  },
  {
   "cell_type": "code",
   "execution_count": 157,
   "id": "84feff59-fb34-4063-9db8-a460d6a867ef",
   "metadata": {},
   "outputs": [
    {
     "data": {
      "text/plain": [
       "array([[  1,   4,   9,  16],\n",
       "       [ 25,  36,  49,  64],\n",
       "       [ 81, 100, 121, 144]])"
      ]
     },
     "execution_count": 157,
     "metadata": {},
     "output_type": "execute_result"
    }
   ],
   "source": [
    "#1.Index wise multiplication\n",
    "matrix_a * matrix_b"
   ]
  },
  {
   "cell_type": "code",
   "execution_count": 158,
   "id": "839d9641-696c-4da3-a092-f970b4bcbdf9",
   "metadata": {},
   "outputs": [
    {
     "data": {
      "text/plain": [
       "array([[ 30,  70, 110],\n",
       "       [ 70, 174, 278],\n",
       "       [110, 278, 446]])"
      ]
     },
     "execution_count": 158,
     "metadata": {},
     "output_type": "execute_result"
    }
   ],
   "source": [
    "# 2.matrix multiplication\n",
    "''' as in this m*n and p*q where n!=p then matrix multiplication is not possible directly\n",
    "so to achieve in this we have to take transpose of matrix_b and then do the matrix multiplication with matrix_a'''\n",
    "matrix_a @ matrix_b.T"
   ]
  },
  {
   "cell_type": "code",
   "execution_count": 159,
   "id": "c950bbfb-1ff1-4b8e-983c-6dd8dced78ad",
   "metadata": {},
   "outputs": [
    {
     "data": {
      "text/plain": [
       "array([[ 2,  4,  6,  8],\n",
       "       [10, 12, 14, 16],\n",
       "       [18, 20, 22, 24]])"
      ]
     },
     "execution_count": 159,
     "metadata": {},
     "output_type": "execute_result"
    }
   ],
   "source": [
    "#3. add both matrics \n",
    "matrix_a + matrix_b"
   ]
  },
  {
   "cell_type": "code",
   "execution_count": 160,
   "id": "88404099-dc08-4227-9b72-e5b58fc14fff",
   "metadata": {},
   "outputs": [
    {
     "data": {
      "text/plain": [
       "array([[0, 0, 0, 0],\n",
       "       [0, 0, 0, 0],\n",
       "       [0, 0, 0, 0]])"
      ]
     },
     "execution_count": 160,
     "metadata": {},
     "output_type": "execute_result"
    }
   ],
   "source": [
    "# 4.subtract matrix b from a\n",
    "matrix_a - matrix_b"
   ]
  },
  {
   "cell_type": "code",
   "execution_count": 161,
   "id": "b8114bc2-f2b2-465d-8746-10f3af6ff46c",
   "metadata": {},
   "outputs": [
    {
     "data": {
      "text/plain": [
       "array([[1., 1., 1., 1.],\n",
       "       [1., 1., 1., 1.],\n",
       "       [1., 1., 1., 1.]])"
      ]
     },
     "execution_count": 161,
     "metadata": {},
     "output_type": "execute_result"
    }
   ],
   "source": [
    "#5.divide matrix b by a\n",
    "matrix_b / matrix_a"
   ]
  },
  {
   "cell_type": "code",
   "execution_count": 162,
   "id": "e97f254a-abf1-4723-b90f-5b3f176a6634",
   "metadata": {},
   "outputs": [
    {
     "data": {
      "text/plain": [
       "'Q12. Which function in Numpy can be used to swap the byte order of an array?\\nThe function in NumPy that can be used to swap the byte order of an array is np.ndarray.byteswap() example below:.'"
      ]
     },
     "execution_count": 162,
     "metadata": {},
     "output_type": "execute_result"
    }
   ],
   "source": [
    "'''Q12. Which function in Numpy can be used to swap the byte order of an array?\n",
    "The function in NumPy that can be used to swap the byte order of an array is np.ndarray.byteswap() example below:.'''"
   ]
  },
  {
   "cell_type": "code",
   "execution_count": 163,
   "id": "4ae60059-09ba-42a1-952f-0c6f447350d7",
   "metadata": {},
   "outputs": [],
   "source": [
    "arr5 = np.array([1, 2, 3, 4])"
   ]
  },
  {
   "cell_type": "code",
   "execution_count": 164,
   "id": "3df5f029-ea4d-45bc-a76b-6f64bb815e83",
   "metadata": {},
   "outputs": [
    {
     "data": {
      "text/plain": [
       "array([1, 2, 3, 4])"
      ]
     },
     "execution_count": 164,
     "metadata": {},
     "output_type": "execute_result"
    }
   ],
   "source": [
    "arr5"
   ]
  },
  {
   "cell_type": "code",
   "execution_count": 165,
   "id": "dd190f20-f296-4c16-a01e-77fcbdecce52",
   "metadata": {},
   "outputs": [],
   "source": [
    "# arr_swapped = arr5.byteswap()"
   ]
  },
  {
   "cell_type": "code",
   "execution_count": 166,
   "id": "dc4c60bd-84cb-4027-a579-834b9c575cd5",
   "metadata": {},
   "outputs": [
    {
     "data": {
      "text/plain": [
       "array([ 72057594037927936, 144115188075855872, 216172782113783808,\n",
       "       288230376151711744])"
      ]
     },
     "execution_count": 166,
     "metadata": {},
     "output_type": "execute_result"
    }
   ],
   "source": [
    "arr_swapped"
   ]
  },
  {
   "cell_type": "code",
   "execution_count": 167,
   "id": "71ca1655-af8b-49fe-96c8-8760de05cf89",
   "metadata": {},
   "outputs": [
    {
     "data": {
      "text/plain": [
       "'13. What is the significance of the np.linalg.inv function?\\nThe np.linalg.inv() function in NumPy calculates the inverse of a square matrix. example below: '"
      ]
     },
     "execution_count": 167,
     "metadata": {},
     "output_type": "execute_result"
    }
   ],
   "source": [
    "'''13. What is the significance of the np.linalg.inv function?\n",
    "The np.linalg.inv() function in NumPy calculates the inverse of a square matrix. example below: '''"
   ]
  },
  {
   "cell_type": "code",
   "execution_count": 168,
   "id": "e28a1712-ae78-4bcb-84da-e4c2ce5028c7",
   "metadata": {},
   "outputs": [],
   "source": [
    "arr6 = np.array([[1, 2],[3, 4]])"
   ]
  },
  {
   "cell_type": "code",
   "execution_count": 169,
   "id": "611e3721-d932-4acd-aa48-6bc18905673e",
   "metadata": {},
   "outputs": [
    {
     "data": {
      "text/plain": [
       "array([[1, 2],\n",
       "       [3, 4]])"
      ]
     },
     "execution_count": 169,
     "metadata": {},
     "output_type": "execute_result"
    }
   ],
   "source": [
    "arr6"
   ]
  },
  {
   "cell_type": "code",
   "execution_count": 170,
   "id": "dbc03a05-42a2-4191-9186-0e8fa7c65724",
   "metadata": {},
   "outputs": [],
   "source": [
    "inverse = np.linalg.inv(arr6)"
   ]
  },
  {
   "cell_type": "code",
   "execution_count": 171,
   "id": "32742c56-157c-49e3-9d19-58e60472a43e",
   "metadata": {},
   "outputs": [
    {
     "data": {
      "text/plain": [
       "array([[-2. ,  1. ],\n",
       "       [ 1.5, -0.5]])"
      ]
     },
     "execution_count": 171,
     "metadata": {},
     "output_type": "execute_result"
    }
   ],
   "source": [
    "inverse"
   ]
  },
  {
   "cell_type": "code",
   "execution_count": 172,
   "id": "e96e09a7-6cb2-4b8a-9b43-e40d0e16e132",
   "metadata": {},
   "outputs": [
    {
     "data": {
      "text/plain": [
       "'Q 14. What does the np.reshape function do, and how is it used?\\nThe np.reshape function in NumPy is used to change the shape (dimensions) of an array without changing its data.\\nIt allows you to rearrange the elements of an array into a new shape, provided that the total number of elements\\nremains the same. example below:'"
      ]
     },
     "execution_count": 172,
     "metadata": {},
     "output_type": "execute_result"
    }
   ],
   "source": [
    "'''Q 14. What does the np.reshape function do, and how is it used?\n",
    "The np.reshape function in NumPy is used to change the shape (dimensions) of an array without changing its data.\n",
    "It allows you to rearrange the elements of an array into a new shape, provided that the total number of elements\n",
    "remains the same. example below:'''"
   ]
  },
  {
   "cell_type": "code",
   "execution_count": 173,
   "id": "c8c724c0-cf46-4f0f-9d36-b32802ccebda",
   "metadata": {},
   "outputs": [],
   "source": [
    "arr7 = np.random.randint(1,5,size=(3,4))"
   ]
  },
  {
   "cell_type": "code",
   "execution_count": 174,
   "id": "0b35e90f-6997-41c1-8ada-6281caf96781",
   "metadata": {},
   "outputs": [
    {
     "data": {
      "text/plain": [
       "array([[3, 3, 3, 1],\n",
       "       [3, 3, 2, 4],\n",
       "       [2, 2, 3, 1]])"
      ]
     },
     "execution_count": 174,
     "metadata": {},
     "output_type": "execute_result"
    }
   ],
   "source": [
    "# original array\n",
    "arr7"
   ]
  },
  {
   "cell_type": "code",
   "execution_count": 175,
   "id": "40d6a504-5e42-4936-88f7-496d8c59b585",
   "metadata": {},
   "outputs": [
    {
     "data": {
      "text/plain": [
       "array([[ 1,  2,  3],\n",
       "       [ 4,  5,  6],\n",
       "       [ 7,  8,  9],\n",
       "       [10, 11, 12]])"
      ]
     },
     "execution_count": 175,
     "metadata": {},
     "output_type": "execute_result"
    }
   ],
   "source": [
    "#reshaped array\n",
    "arr.reshape(4,3)"
   ]
  },
  {
   "cell_type": "code",
   "execution_count": 176,
   "id": "59d62a2d-6f78-46b3-a99f-d11f6db40a4a",
   "metadata": {},
   "outputs": [
    {
     "data": {
      "text/plain": [
       "'Q15. What is broadcasting in Numpy?\\nBroadcasting in NumPy allows arrays of different shapes to be combined in arithmetic operations by automatically\\nadjusting their shapes to make them compatible, typically by replicating smaller arrays along missing dimensions.\\nThis enables concise and efficient computation of operations even when arrays have different shapes.\\nexample below'"
      ]
     },
     "execution_count": 176,
     "metadata": {},
     "output_type": "execute_result"
    }
   ],
   "source": [
    "'''Q15. What is broadcasting in Numpy?\n",
    "Broadcasting in NumPy allows arrays of different shapes to be combined in arithmetic operations by automatically\n",
    "adjusting their shapes to make them compatible, typically by replicating smaller arrays along missing dimensions.\n",
    "This enables concise and efficient computation of operations even when arrays have different shapes.\n",
    "example below'''\n"
   ]
  },
  {
   "cell_type": "code",
   "execution_count": 177,
   "id": "b8017e24-2725-44b1-84f8-ac2d368c359b",
   "metadata": {},
   "outputs": [],
   "source": [
    "arr8 = np.array([[1, 2, 3],[4,5,6]])"
   ]
  },
  {
   "cell_type": "code",
   "execution_count": 178,
   "id": "17b91869-f081-44b5-a1cd-c987e9cdd380",
   "metadata": {},
   "outputs": [
    {
     "data": {
      "text/plain": [
       "array([[1, 2, 3],\n",
       "       [4, 5, 6]])"
      ]
     },
     "execution_count": 178,
     "metadata": {},
     "output_type": "execute_result"
    }
   ],
   "source": [
    "arr8"
   ]
  },
  {
   "cell_type": "code",
   "execution_count": 179,
   "id": "abe03db3-7696-46a0-bfc4-a83098e07942",
   "metadata": {},
   "outputs": [
    {
     "data": {
      "text/plain": [
       "array([[ 6,  7,  8],\n",
       "       [ 9, 10, 11]])"
      ]
     },
     "execution_count": 179,
     "metadata": {},
     "output_type": "execute_result"
    }
   ],
   "source": [
    "arr8 + 5"
   ]
  },
  {
   "cell_type": "code",
   "execution_count": null,
   "id": "94cbe9f1-ca30-48e4-8c71-5b8e15871f03",
   "metadata": {},
   "outputs": [],
   "source": []
  }
 ],
 "metadata": {
  "kernelspec": {
   "display_name": "Python 3 (ipykernel)",
   "language": "python",
   "name": "python3"
  },
  "language_info": {
   "codemirror_mode": {
    "name": "ipython",
    "version": 3
   },
   "file_extension": ".py",
   "mimetype": "text/x-python",
   "name": "python",
   "nbconvert_exporter": "python",
   "pygments_lexer": "ipython3",
   "version": "3.10.8"
  }
 },
 "nbformat": 4,
 "nbformat_minor": 5
}
